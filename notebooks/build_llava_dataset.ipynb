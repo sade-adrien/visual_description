{
 "cells": [
  {
   "cell_type": "code",
   "execution_count": 1,
   "metadata": {},
   "outputs": [],
   "source": [
    "import json"
   ]
  },
  {
   "cell_type": "markdown",
   "metadata": {},
   "source": [
    "### Train Data"
   ]
  },
  {
   "cell_type": "code",
   "execution_count": 2,
   "metadata": {},
   "outputs": [],
   "source": [
    "with open('../data/train2014_descriptive_texts.json', 'r') as file:\n",
    "    dataset = json.load(file)"
   ]
  },
  {
   "cell_type": "code",
   "execution_count": 5,
   "metadata": {},
   "outputs": [],
   "source": [
    "new_format_data = []\n",
    "for i,d in enumerate(dataset):\n",
    "    item = {\n",
    "        'id': d['image_path'][15:],\n",
    "        'image': d['image_path'][5:],\n",
    "        'conversations': [\n",
    "            {\n",
    "                'from': 'human',\n",
    "                'value': f\"\"\"You are an AI model designed to help visually impaired people. Your task is to provide a comprehensive description of the image, locating important objects to guide disabled people through the scene.\n",
    "Below is a {d['title']} scene. Provide a descriptive paragraph using a human-like description. Do not add any comment or guess. Remain factual and avoid unnecessary embellishments, keep it simple.\n",
    "<image>\"\"\"\n",
    "            },\n",
    "            {\n",
    "                'from': 'gpt',\n",
    "                'value': d['generated_descriptive_text']\n",
    "            }\n",
    "        ]\n",
    "    }\n",
    "\n",
    "    new_format_data.append(item)"
   ]
  },
  {
   "cell_type": "code",
   "execution_count": 7,
   "metadata": {},
   "outputs": [
    {
     "data": {
      "text/plain": [
       "{'id': 'COCO_train2014_000000292805.jpg',\n",
       " 'image': 'train2014/COCO_train2014_000000292805.jpg',\n",
       " 'conversations': [{'from': 'human',\n",
       "   'value': 'You are an AI model designed to help visually impaired people. Your task is to provide a comprehensive description of the image, locating important objects to guide disabled people through the scene.\\nBelow is a Woman sitting on steps using phone and wearing hat scene. Provide a descriptive paragraph using a human-like description. Do not add any comment or guess. Remain factual and avoid unnecessary embellishments, keep it simple.\\n<image>'},\n",
       "  {'from': 'gpt',\n",
       "   'value': \"A woman is sitting on a set of steps in front of a building. She's wearing a hat and a skirt that falls just above her ankles. Her shoes are visible below the hem of her skirt. In her hand, she's holding a phone, which she appears to be using. There's a sign attached to the building's wall, located near the top of the steps, just to the left of where she's sitting.\"}]}"
      ]
     },
     "execution_count": 7,
     "metadata": {},
     "output_type": "execute_result"
    }
   ],
   "source": [
    "new_format_data[0]"
   ]
  },
  {
   "cell_type": "code",
   "execution_count": 8,
   "metadata": {},
   "outputs": [],
   "source": [
    "with open('../data/train2014_llava.json', 'w') as file:\n",
    "    json.dump(new_format_data, file, indent=4)"
   ]
  },
  {
   "cell_type": "markdown",
   "metadata": {},
   "source": [
    "### Val Data"
   ]
  },
  {
   "cell_type": "code",
   "execution_count": 9,
   "metadata": {},
   "outputs": [],
   "source": [
    "with open('../data/val2014_descriptive_texts.json', 'r') as file:\n",
    "    dataset = json.load(file)"
   ]
  },
  {
   "cell_type": "code",
   "execution_count": 10,
   "metadata": {},
   "outputs": [],
   "source": [
    "new_format_data = []\n",
    "for i,d in enumerate(dataset):\n",
    "    item = {\n",
    "        'id': d['image_path'][13:],\n",
    "        'image': d['image_path'][5:],\n",
    "        'conversations': [\n",
    "            {\n",
    "                'from': 'human',\n",
    "                'value': f\"\"\"You are an AI model designed to help visually impaired people. Your task is to provide a comprehensive description of the image, locating important objects to guide disabled people through the scene.\n",
    "Below is a {d['title']} scene. Provide a descriptive paragraph using a human-like description. Do not add any comment or guess. Remain factual and avoid unnecessary embellishments, keep it simple.\n",
    "<image>\"\"\"\n",
    "            },\n",
    "            {\n",
    "                'from': 'gpt',\n",
    "                'value': d['generated_descriptive_text']\n",
    "            }\n",
    "        ]\n",
    "    }\n",
    "\n",
    "    new_format_data.append(item)"
   ]
  },
  {
   "cell_type": "code",
   "execution_count": 11,
   "metadata": {},
   "outputs": [],
   "source": [
    "with open('../data/val2014_llava.json', 'w') as file:\n",
    "    json.dump(new_format_data[:1000], file, indent=4)"
   ]
  }
 ],
 "metadata": {
  "kernelspec": {
   "display_name": "visual_description",
   "language": "python",
   "name": "visual_description"
  },
  "language_info": {
   "codemirror_mode": {
    "name": "ipython",
    "version": 3
   },
   "file_extension": ".py",
   "mimetype": "text/x-python",
   "name": "python",
   "nbconvert_exporter": "python",
   "pygments_lexer": "ipython3",
   "version": "3.12.3"
  }
 },
 "nbformat": 4,
 "nbformat_minor": 2
}
